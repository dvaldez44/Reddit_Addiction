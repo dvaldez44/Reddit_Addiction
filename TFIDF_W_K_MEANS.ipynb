{
  "nbformat": 4,
  "nbformat_minor": 0,
  "metadata": {
    "colab": {
      "name": "TFIDF_W_K-MEANS.ipynb",
      "provenance": [],
      "authorship_tag": "ABX9TyNDgAovniY/a/Xiblz+dM5E",
      "include_colab_link": true
    },
    "kernelspec": {
      "name": "python3",
      "display_name": "Python 3"
    },
    "language_info": {
      "name": "python"
    }
  },
  "cells": [
    {
      "cell_type": "markdown",
      "metadata": {
        "id": "view-in-github",
        "colab_type": "text"
      },
      "source": [
        "<a href=\"https://colab.research.google.com/github/dvaldez44/Reddit_Addiction/blob/main/TFIDF_W_K_MEANS.ipynb\" target=\"_parent\"><img src=\"https://colab.research.google.com/assets/colab-badge.svg\" alt=\"Open In Colab\"/></a>"
      ]
    },
    {
      "cell_type": "code",
      "execution_count": null,
      "metadata": {
        "id": "KqO0yqpk8u1V"
      },
      "outputs": [],
      "source": [
        "# import the dataset from sklearn\n",
        "from sklearn.datasets import fetch_20newsgroups\n",
        "from sklearn.feature_extraction.text import TfidfVectorizer\n",
        "from sklearn.cluster import KMeans\n",
        "from sklearn.decomposition import PCA\n"
      ]
    },
    {
      "cell_type": "code",
      "source": [
        "# import other required libs\n",
        "import pandas as pd\n",
        "import numpy as np"
      ],
      "metadata": {
        "id": "80K5VS0I82Uv"
      },
      "execution_count": null,
      "outputs": []
    },
    {
      "cell_type": "code",
      "source": [
        "import re\n",
        "import string\n",
        "import nltk\n",
        "from nltk.corpus import stopwords"
      ],
      "metadata": {
        "id": "Ex1sSxQ382Xe"
      },
      "execution_count": null,
      "outputs": []
    },
    {
      "cell_type": "code",
      "source": [
        "import matplotlib.pyplot as plt\n",
        "import seaborn as sns"
      ],
      "metadata": {
        "id": "7HXYtA8L82aG"
      },
      "execution_count": null,
      "outputs": []
    },
    {
      "cell_type": "code",
      "source": [
        "import nltk\n",
        "nltk.download('stopwords')\n",
        "from nltk.corpus import stopwords \n",
        "\n",
        "stopwords.words(\"english\")[:10] # <-- import the english stopwords"
      ],
      "metadata": {
        "colab": {
          "base_uri": "https://localhost:8080/"
        },
        "id": "NC6KuV6M82cu",
        "outputId": "d2ef90e7-7a43-41cf-fd77-b57fd13b7185"
      },
      "execution_count": null,
      "outputs": [
        {
          "output_type": "stream",
          "name": "stderr",
          "text": [
            "[nltk_data] Downloading package stopwords to /root/nltk_data...\n",
            "[nltk_data]   Package stopwords is already up-to-date!\n"
          ]
        },
        {
          "output_type": "execute_result",
          "data": {
            "text/plain": [
              "['i', 'me', 'my', 'myself', 'we', 'our', 'ours', 'ourselves', 'you', \"you're\"]"
            ]
          },
          "metadata": {},
          "execution_count": 21
        }
      ]
    },
    {
      "cell_type": "code",
      "source": [
        "def preprocess_text(text: str, remove_stopwords: bool) -> str:\n",
        "    \"\"\"This utility function sanitizes a string by:\n",
        "    - removing links\n",
        "    - removing special characters\n",
        "    - removing numbers\n",
        "    - removing stopwords\n",
        "    - transforming in lowercase\n",
        "    - removing excessive whitespaces\n",
        "    Args:\n",
        "        text (str): the input text you want to clean\n",
        "        remove_stopwords (bool): whether or not to remove stopwords\n",
        "    Returns:\n",
        "        str: the cleaned text\n",
        "    \"\"\"\n",
        "\n",
        "    # remove links\n",
        "    text = re.sub(r\"http\\S+\", \"\", text)\n",
        "    # remove special chars and numbers\n",
        "    text = re.sub(\"[^A-Za-z]+\", \" \", text)\n",
        "    # remove stopwords\n",
        "    if remove_stopwords:\n",
        "        # 1. tokenize\n",
        "        tokens = nltk.word_tokenize(text)\n",
        "        # 2. check if stopword\n",
        "        tokens = [w for w in tokens if not w.lower() in stopwords.words(\"english\")]\n",
        "        # 3. join back together\n",
        "        text = \" \".join(tokens)\n",
        "    # return text in lower case and stripped of whitespaces\n",
        "    text = text.lower().strip()\n",
        "    return text"
      ],
      "metadata": {
        "id": "rwI7JQhI82fT"
      },
      "execution_count": null,
      "outputs": []
    },
    {
      "cell_type": "code",
      "source": [
        "df = pd.read_csv(\"Addiction_Reddit_030122.csv\")"
      ],
      "metadata": {
        "id": "zYlUowdA82h1"
      },
      "execution_count": null,
      "outputs": []
    },
    {
      "cell_type": "code",
      "source": [
        "df"
      ],
      "metadata": {
        "colab": {
          "base_uri": "https://localhost:8080/",
          "height": 1000
        },
        "id": "q5puXjsh82j-",
        "outputId": "d9ad669b-0f0a-407a-fe9b-7c743b45738a"
      },
      "execution_count": null,
      "outputs": [
        {
          "output_type": "execute_result",
          "data": {
            "text/plain": [
              "      Unnamed: 0                                              title  \\\n",
              "0              0                              She Came Home Tonight   \n",
              "1              1  Good afternoon everyone I’ve not touched cocai...   \n",
              "2              2  Today officially marks 10 years clean from a 1...   \n",
              "3              3                        Found 20$ and a bag of coke   \n",
              "4              4  My son, who was a longtime redditor, passed aw...   \n",
              "...          ...                                                ...   \n",
              "9060        5911                                 Just got out Detox   \n",
              "9061        5912  My story, my sobriety, my prison time, my come...   \n",
              "9062        5913                            Day 14! 2 weeks baby!!!   \n",
              "9063        5914      1 year, I'm no-one special but It's possible.   \n",
              "9064        8848  how long to wait after last suboxone dose to t...   \n",
              "\n",
              "                score      id  \\\n",
              "0                 766  hwywkf   \n",
              "1                 461  balejy   \n",
              "2                 442  fuoskf   \n",
              "3                 383  mmcrl5   \n",
              "4                 365  eg2qb3   \n",
              "...               ...     ...   \n",
              "9060  OpiatesRecovery      39   \n",
              "9061  OpiatesRecovery      37   \n",
              "9062  OpiatesRecovery      39   \n",
              "9063  OpiatesRecovery      40   \n",
              "9064  OpiatesRecovery       1   \n",
              "\n",
              "                                                    url  \\\n",
              "0     https://www.reddit.com/r/addiction/comments/hw...   \n",
              "1     https://www.reddit.com/r/addiction/comments/ba...   \n",
              "2     https://www.reddit.com/r/addiction/comments/fu...   \n",
              "3     https://www.reddit.com/r/addiction/comments/mm...   \n",
              "4     https://www.reddit.com/r/addiction/comments/eg...   \n",
              "...                                                 ...   \n",
              "9060                                             sgn0cu   \n",
              "9061                                             r5fl7h   \n",
              "9062                                             qt1q9d   \n",
              "9063                                             q3kvbo   \n",
              "9064                                             wp11t4   \n",
              "\n",
              "                                              comms_num           created  \\\n",
              "0                                                   149    7/24/2020 5:43   \n",
              "1                                                    41    4/7/2019 17:32   \n",
              "2                                                    72     4/4/2020 2:31   \n",
              "3                                                    49    4/7/2021 17:44   \n",
              "4                                                    41  12/26/2019 18:22   \n",
              "...                                                 ...               ...   \n",
              "9060  https://www.reddit.com/r/OpiatesRecovery/comme...                51   \n",
              "9061  https://www.reddit.com/r/OpiatesRecovery/comme...                24   \n",
              "9062  https://www.reddit.com/r/OpiatesRecovery/comme...                 9   \n",
              "9063  https://www.reddit.com/r/OpiatesRecovery/comme...                19   \n",
              "9064  https://www.reddit.com/r/OpiatesRecovery/comme...                 0   \n",
              "\n",
              "                                                   body       redditor  \\\n",
              "0     She’s Really Here\\n\\nMy 20 year old daughter i...   Babyyy_Kattt   \n",
              "1     Not expecting people to care much, but I am pr...      madre1932   \n",
              "2     I immediately started looking around for aceto...  0squatNcough0   \n",
              "3     This is my second son who passed away from an ...      AderallAl   \n",
              "4     Months ago I was stuck in the darkest place I ...   mrsbrown3333   \n",
              "...                                                 ...            ...   \n",
              "9060  I feel really weak, the food there sucks.. did...            NaN   \n",
              "9061  Hello Everyone,\\n\\n38/Single/White/West Coast/...            NaN   \n",
              "9062  Here's the most exciting thing that's happened...            NaN   \n",
              "9063  Today, Oct 7th I hit one year sober from opiat...            NaN   \n",
              "9064  I was on subutex 4mg for a week then ran out s...            NaN   \n",
              "\n",
              "      subreddit_addiction  subreddit_selfimprovement  Unnamed: 11  \n",
              "0                     1.0                        0.0          0.0  \n",
              "1                     1.0                        0.0          0.0  \n",
              "2                     1.0                        0.0          0.0  \n",
              "3                     1.0                        0.0          0.0  \n",
              "4                     1.0                        0.0          0.0  \n",
              "...                   ...                        ...          ...  \n",
              "9060                  NaN                        NaN          NaN  \n",
              "9061                  NaN                        NaN          NaN  \n",
              "9062                  NaN                        NaN          NaN  \n",
              "9063                  NaN                        NaN          NaN  \n",
              "9064                  NaN                        NaN          NaN  \n",
              "\n",
              "[9065 rows x 12 columns]"
            ],
            "text/html": [
              "\n",
              "  <div id=\"df-a2e33e1d-0f5f-4dae-b582-efc4a59f02db\">\n",
              "    <div class=\"colab-df-container\">\n",
              "      <div>\n",
              "<style scoped>\n",
              "    .dataframe tbody tr th:only-of-type {\n",
              "        vertical-align: middle;\n",
              "    }\n",
              "\n",
              "    .dataframe tbody tr th {\n",
              "        vertical-align: top;\n",
              "    }\n",
              "\n",
              "    .dataframe thead th {\n",
              "        text-align: right;\n",
              "    }\n",
              "</style>\n",
              "<table border=\"1\" class=\"dataframe\">\n",
              "  <thead>\n",
              "    <tr style=\"text-align: right;\">\n",
              "      <th></th>\n",
              "      <th>Unnamed: 0</th>\n",
              "      <th>title</th>\n",
              "      <th>score</th>\n",
              "      <th>id</th>\n",
              "      <th>url</th>\n",
              "      <th>comms_num</th>\n",
              "      <th>created</th>\n",
              "      <th>body</th>\n",
              "      <th>redditor</th>\n",
              "      <th>subreddit_addiction</th>\n",
              "      <th>subreddit_selfimprovement</th>\n",
              "      <th>Unnamed: 11</th>\n",
              "    </tr>\n",
              "  </thead>\n",
              "  <tbody>\n",
              "    <tr>\n",
              "      <th>0</th>\n",
              "      <td>0</td>\n",
              "      <td>She Came Home Tonight</td>\n",
              "      <td>766</td>\n",
              "      <td>hwywkf</td>\n",
              "      <td>https://www.reddit.com/r/addiction/comments/hw...</td>\n",
              "      <td>149</td>\n",
              "      <td>7/24/2020 5:43</td>\n",
              "      <td>She’s Really Here\\n\\nMy 20 year old daughter i...</td>\n",
              "      <td>Babyyy_Kattt</td>\n",
              "      <td>1.0</td>\n",
              "      <td>0.0</td>\n",
              "      <td>0.0</td>\n",
              "    </tr>\n",
              "    <tr>\n",
              "      <th>1</th>\n",
              "      <td>1</td>\n",
              "      <td>Good afternoon everyone I’ve not touched cocai...</td>\n",
              "      <td>461</td>\n",
              "      <td>balejy</td>\n",
              "      <td>https://www.reddit.com/r/addiction/comments/ba...</td>\n",
              "      <td>41</td>\n",
              "      <td>4/7/2019 17:32</td>\n",
              "      <td>Not expecting people to care much, but I am pr...</td>\n",
              "      <td>madre1932</td>\n",
              "      <td>1.0</td>\n",
              "      <td>0.0</td>\n",
              "      <td>0.0</td>\n",
              "    </tr>\n",
              "    <tr>\n",
              "      <th>2</th>\n",
              "      <td>2</td>\n",
              "      <td>Today officially marks 10 years clean from a 1...</td>\n",
              "      <td>442</td>\n",
              "      <td>fuoskf</td>\n",
              "      <td>https://www.reddit.com/r/addiction/comments/fu...</td>\n",
              "      <td>72</td>\n",
              "      <td>4/4/2020 2:31</td>\n",
              "      <td>I immediately started looking around for aceto...</td>\n",
              "      <td>0squatNcough0</td>\n",
              "      <td>1.0</td>\n",
              "      <td>0.0</td>\n",
              "      <td>0.0</td>\n",
              "    </tr>\n",
              "    <tr>\n",
              "      <th>3</th>\n",
              "      <td>3</td>\n",
              "      <td>Found 20$ and a bag of coke</td>\n",
              "      <td>383</td>\n",
              "      <td>mmcrl5</td>\n",
              "      <td>https://www.reddit.com/r/addiction/comments/mm...</td>\n",
              "      <td>49</td>\n",
              "      <td>4/7/2021 17:44</td>\n",
              "      <td>This is my second son who passed away from an ...</td>\n",
              "      <td>AderallAl</td>\n",
              "      <td>1.0</td>\n",
              "      <td>0.0</td>\n",
              "      <td>0.0</td>\n",
              "    </tr>\n",
              "    <tr>\n",
              "      <th>4</th>\n",
              "      <td>4</td>\n",
              "      <td>My son, who was a longtime redditor, passed aw...</td>\n",
              "      <td>365</td>\n",
              "      <td>eg2qb3</td>\n",
              "      <td>https://www.reddit.com/r/addiction/comments/eg...</td>\n",
              "      <td>41</td>\n",
              "      <td>12/26/2019 18:22</td>\n",
              "      <td>Months ago I was stuck in the darkest place I ...</td>\n",
              "      <td>mrsbrown3333</td>\n",
              "      <td>1.0</td>\n",
              "      <td>0.0</td>\n",
              "      <td>0.0</td>\n",
              "    </tr>\n",
              "    <tr>\n",
              "      <th>...</th>\n",
              "      <td>...</td>\n",
              "      <td>...</td>\n",
              "      <td>...</td>\n",
              "      <td>...</td>\n",
              "      <td>...</td>\n",
              "      <td>...</td>\n",
              "      <td>...</td>\n",
              "      <td>...</td>\n",
              "      <td>...</td>\n",
              "      <td>...</td>\n",
              "      <td>...</td>\n",
              "      <td>...</td>\n",
              "    </tr>\n",
              "    <tr>\n",
              "      <th>9060</th>\n",
              "      <td>5911</td>\n",
              "      <td>Just got out Detox</td>\n",
              "      <td>OpiatesRecovery</td>\n",
              "      <td>39</td>\n",
              "      <td>sgn0cu</td>\n",
              "      <td>https://www.reddit.com/r/OpiatesRecovery/comme...</td>\n",
              "      <td>51</td>\n",
              "      <td>I feel really weak, the food there sucks.. did...</td>\n",
              "      <td>NaN</td>\n",
              "      <td>NaN</td>\n",
              "      <td>NaN</td>\n",
              "      <td>NaN</td>\n",
              "    </tr>\n",
              "    <tr>\n",
              "      <th>9061</th>\n",
              "      <td>5912</td>\n",
              "      <td>My story, my sobriety, my prison time, my come...</td>\n",
              "      <td>OpiatesRecovery</td>\n",
              "      <td>37</td>\n",
              "      <td>r5fl7h</td>\n",
              "      <td>https://www.reddit.com/r/OpiatesRecovery/comme...</td>\n",
              "      <td>24</td>\n",
              "      <td>Hello Everyone,\\n\\n38/Single/White/West Coast/...</td>\n",
              "      <td>NaN</td>\n",
              "      <td>NaN</td>\n",
              "      <td>NaN</td>\n",
              "      <td>NaN</td>\n",
              "    </tr>\n",
              "    <tr>\n",
              "      <th>9062</th>\n",
              "      <td>5913</td>\n",
              "      <td>Day 14! 2 weeks baby!!!</td>\n",
              "      <td>OpiatesRecovery</td>\n",
              "      <td>39</td>\n",
              "      <td>qt1q9d</td>\n",
              "      <td>https://www.reddit.com/r/OpiatesRecovery/comme...</td>\n",
              "      <td>9</td>\n",
              "      <td>Here's the most exciting thing that's happened...</td>\n",
              "      <td>NaN</td>\n",
              "      <td>NaN</td>\n",
              "      <td>NaN</td>\n",
              "      <td>NaN</td>\n",
              "    </tr>\n",
              "    <tr>\n",
              "      <th>9063</th>\n",
              "      <td>5914</td>\n",
              "      <td>1 year, I'm no-one special but It's possible.</td>\n",
              "      <td>OpiatesRecovery</td>\n",
              "      <td>40</td>\n",
              "      <td>q3kvbo</td>\n",
              "      <td>https://www.reddit.com/r/OpiatesRecovery/comme...</td>\n",
              "      <td>19</td>\n",
              "      <td>Today, Oct 7th I hit one year sober from opiat...</td>\n",
              "      <td>NaN</td>\n",
              "      <td>NaN</td>\n",
              "      <td>NaN</td>\n",
              "      <td>NaN</td>\n",
              "    </tr>\n",
              "    <tr>\n",
              "      <th>9064</th>\n",
              "      <td>8848</td>\n",
              "      <td>how long to wait after last suboxone dose to t...</td>\n",
              "      <td>OpiatesRecovery</td>\n",
              "      <td>1</td>\n",
              "      <td>wp11t4</td>\n",
              "      <td>https://www.reddit.com/r/OpiatesRecovery/comme...</td>\n",
              "      <td>0</td>\n",
              "      <td>I was on subutex 4mg for a week then ran out s...</td>\n",
              "      <td>NaN</td>\n",
              "      <td>NaN</td>\n",
              "      <td>NaN</td>\n",
              "      <td>NaN</td>\n",
              "    </tr>\n",
              "  </tbody>\n",
              "</table>\n",
              "<p>9065 rows × 12 columns</p>\n",
              "</div>\n",
              "      <button class=\"colab-df-convert\" onclick=\"convertToInteractive('df-a2e33e1d-0f5f-4dae-b582-efc4a59f02db')\"\n",
              "              title=\"Convert this dataframe to an interactive table.\"\n",
              "              style=\"display:none;\">\n",
              "        \n",
              "  <svg xmlns=\"http://www.w3.org/2000/svg\" height=\"24px\"viewBox=\"0 0 24 24\"\n",
              "       width=\"24px\">\n",
              "    <path d=\"M0 0h24v24H0V0z\" fill=\"none\"/>\n",
              "    <path d=\"M18.56 5.44l.94 2.06.94-2.06 2.06-.94-2.06-.94-.94-2.06-.94 2.06-2.06.94zm-11 1L8.5 8.5l.94-2.06 2.06-.94-2.06-.94L8.5 2.5l-.94 2.06-2.06.94zm10 10l.94 2.06.94-2.06 2.06-.94-2.06-.94-.94-2.06-.94 2.06-2.06.94z\"/><path d=\"M17.41 7.96l-1.37-1.37c-.4-.4-.92-.59-1.43-.59-.52 0-1.04.2-1.43.59L10.3 9.45l-7.72 7.72c-.78.78-.78 2.05 0 2.83L4 21.41c.39.39.9.59 1.41.59.51 0 1.02-.2 1.41-.59l7.78-7.78 2.81-2.81c.8-.78.8-2.07 0-2.86zM5.41 20L4 18.59l7.72-7.72 1.47 1.35L5.41 20z\"/>\n",
              "  </svg>\n",
              "      </button>\n",
              "      \n",
              "  <style>\n",
              "    .colab-df-container {\n",
              "      display:flex;\n",
              "      flex-wrap:wrap;\n",
              "      gap: 12px;\n",
              "    }\n",
              "\n",
              "    .colab-df-convert {\n",
              "      background-color: #E8F0FE;\n",
              "      border: none;\n",
              "      border-radius: 50%;\n",
              "      cursor: pointer;\n",
              "      display: none;\n",
              "      fill: #1967D2;\n",
              "      height: 32px;\n",
              "      padding: 0 0 0 0;\n",
              "      width: 32px;\n",
              "    }\n",
              "\n",
              "    .colab-df-convert:hover {\n",
              "      background-color: #E2EBFA;\n",
              "      box-shadow: 0px 1px 2px rgba(60, 64, 67, 0.3), 0px 1px 3px 1px rgba(60, 64, 67, 0.15);\n",
              "      fill: #174EA6;\n",
              "    }\n",
              "\n",
              "    [theme=dark] .colab-df-convert {\n",
              "      background-color: #3B4455;\n",
              "      fill: #D2E3FC;\n",
              "    }\n",
              "\n",
              "    [theme=dark] .colab-df-convert:hover {\n",
              "      background-color: #434B5C;\n",
              "      box-shadow: 0px 1px 3px 1px rgba(0, 0, 0, 0.15);\n",
              "      filter: drop-shadow(0px 1px 2px rgba(0, 0, 0, 0.3));\n",
              "      fill: #FFFFFF;\n",
              "    }\n",
              "  </style>\n",
              "\n",
              "      <script>\n",
              "        const buttonEl =\n",
              "          document.querySelector('#df-a2e33e1d-0f5f-4dae-b582-efc4a59f02db button.colab-df-convert');\n",
              "        buttonEl.style.display =\n",
              "          google.colab.kernel.accessAllowed ? 'block' : 'none';\n",
              "\n",
              "        async function convertToInteractive(key) {\n",
              "          const element = document.querySelector('#df-a2e33e1d-0f5f-4dae-b582-efc4a59f02db');\n",
              "          const dataTable =\n",
              "            await google.colab.kernel.invokeFunction('convertToInteractive',\n",
              "                                                     [key], {});\n",
              "          if (!dataTable) return;\n",
              "\n",
              "          const docLinkHtml = 'Like what you see? Visit the ' +\n",
              "            '<a target=\"_blank\" href=https://colab.research.google.com/notebooks/data_table.ipynb>data table notebook</a>'\n",
              "            + ' to learn more about interactive tables.';\n",
              "          element.innerHTML = '';\n",
              "          dataTable['output_type'] = 'display_data';\n",
              "          await google.colab.output.renderOutput(dataTable, element);\n",
              "          const docLink = document.createElement('div');\n",
              "          docLink.innerHTML = docLinkHtml;\n",
              "          element.appendChild(docLink);\n",
              "        }\n",
              "      </script>\n",
              "    </div>\n",
              "  </div>\n",
              "  "
            ]
          },
          "metadata": {},
          "execution_count": 133
        }
      ]
    },
    {
      "cell_type": "code",
      "source": [
        "nltk.download('punkt')"
      ],
      "metadata": {
        "colab": {
          "base_uri": "https://localhost:8080/"
        },
        "id": "p-FYdsYz9oOy",
        "outputId": "7b709a66-5460-41d7-d1e6-9ae3e8903db7"
      },
      "execution_count": null,
      "outputs": [
        {
          "output_type": "stream",
          "name": "stderr",
          "text": [
            "[nltk_data] Downloading package punkt to /root/nltk_data...\n",
            "[nltk_data]   Package punkt is already up-to-date!\n"
          ]
        },
        {
          "output_type": "execute_result",
          "data": {
            "text/plain": [
              "True"
            ]
          },
          "metadata": {},
          "execution_count": 24
        }
      ]
    },
    {
      "cell_type": "code",
      "source": [
        "df['cleaned'] = df['body'].apply(lambda x: preprocess_text(x, remove_stopwords=True))\n"
      ],
      "metadata": {
        "id": "0iEevGHE9iTD"
      },
      "execution_count": null,
      "outputs": []
    },
    {
      "cell_type": "code",
      "source": [
        "# initialize the vectorizer\n",
        "vectorizer = TfidfVectorizer(sublinear_tf=True, min_df=5, max_df=0.95)\n",
        "# fit_transform applies TF-IDF to clean texts - we save the array of vectors in X\n",
        "X = vectorizer.fit_transform(df['cleaned'])"
      ],
      "metadata": {
        "id": "Apsbbjq19iVp"
      },
      "execution_count": null,
      "outputs": []
    },
    {
      "cell_type": "code",
      "source": [
        "X.toarray()"
      ],
      "metadata": {
        "colab": {
          "base_uri": "https://localhost:8080/"
        },
        "id": "zJIE_lw5KNaM",
        "outputId": "837449c8-8b77-488e-aac5-8d986abf29e8"
      },
      "execution_count": null,
      "outputs": [
        {
          "output_type": "execute_result",
          "data": {
            "text/plain": [
              "array([[0., 0., 0., ..., 0., 0., 0.],\n",
              "       [0., 0., 0., ..., 0., 0., 0.],\n",
              "       [0., 0., 0., ..., 0., 0., 0.],\n",
              "       ...,\n",
              "       [0., 0., 0., ..., 0., 0., 0.],\n",
              "       [0., 0., 0., ..., 0., 0., 0.],\n",
              "       [0., 0., 0., ..., 0., 0., 0.]])"
            ]
          },
          "metadata": {},
          "execution_count": 27
        }
      ]
    },
    {
      "cell_type": "code",
      "source": [
        "Sum_of_squared_distances = [] #elbow method for optimal clusters\n",
        "K = range(1,10)\n",
        "for k in K:\n",
        "    km = KMeans(n_clusters=k)\n",
        "    km = km.fit(X)\n",
        "    Sum_of_squared_distances.append(km.inertia_)\n",
        "plt.plot(range(1, 10), Sum_of_squared_distances)\n",
        "plt.title('Elbow Method')\n",
        "plt.xlabel('Number of clusters')\n",
        "plt.ylabel('Sum of Squared Differences')\n",
        "plt.figtext(0.5, 0.01, \"footnote:Fig 1: Elbow plot for PCA and k-means analysis\", ha=\"left\", fontsize=9)\n",
        "plt.show()"
      ],
      "metadata": {
        "colab": {
          "base_uri": "https://localhost:8080/",
          "height": 299
        },
        "id": "ePslYzo8KO5b",
        "outputId": "f7c053de-7eba-4437-b25a-54ebe447730e"
      },
      "execution_count": null,
      "outputs": [
        {
          "output_type": "display_data",
          "data": {
            "text/plain": [
              "<Figure size 432x288 with 1 Axes>"
            ],
            "image/png": "[encoded data removed]"
          },
          "metadata": {
            "needs_background": "light"
          }
        }
      ]
    },
    {
      "cell_type": "code",
      "source": [
        "from sklearn.cluster import KMeans\n",
        "\n",
        "# initialize kmeans with 3 centroids\n",
        "kmeans = KMeans(n_clusters=3, random_state=42)\n",
        "# fit the model\n",
        "kmeans.fit(X)\n",
        "# store cluster labels in a variable\n",
        "clusters = kmeans.labels_"
      ],
      "metadata": {
        "id": "lQv-eDIS9iYB"
      },
      "execution_count": null,
      "outputs": []
    },
    {
      "cell_type": "code",
      "source": [
        "from sklearn.decomposition import PCA\n",
        "\n",
        "# initialize PCA with 2 components\n",
        "pca = PCA(n_components=2, random_state=42)\n",
        "# pass our X to the pca and store the reduced vectors into pca_vecs\n",
        "pca_vecs = pca.fit_transform(X.toarray())\n",
        "# save our two dimensions into x0 and x1\n",
        "x0 = pca_vecs[:, 0]\n",
        "x1 = pca_vecs[:, 1]"
      ],
      "metadata": {
        "id": "yOMdQqkY9iaj"
      },
      "execution_count": null,
      "outputs": []
    },
    {
      "cell_type": "code",
      "source": [
        "# assign clusters and pca vectors to our dataframe \n",
        "df['cluster'] = clusters\n",
        "df['x0'] = x0\n",
        "df['x1'] = x1"
      ],
      "metadata": {
        "id": "zm5gmKEm9ic7"
      },
      "execution_count": null,
      "outputs": []
    },
    {
      "cell_type": "code",
      "source": [
        "def get_top_keywords(n_terms):\n",
        "    \"\"\"This function returns the keywords for each centroid of the KMeans\"\"\"\n",
        "    df = pd.DataFrame(X.todense()).groupby(clusters).mean() # groups the TF-IDF vector by cluster\n",
        "    terms = vectorizer.get_feature_names_out() # access tf-idf terms\n",
        "    for i,r in df.iterrows():\n",
        "        print('\\nCluster {}'.format(i))\n",
        "        print(','.join([terms[t] for t in np.argsort(r)[-n_terms:]])) # for each row of the dataframe, find the n terms that have the highest tf idf score\n",
        "            \n",
        "get_top_keywords(50)"
      ],
      "metadata": {
        "colab": {
          "base_uri": "https://localhost:8080/"
        },
        "id": "Gj266Lno_abL",
        "outputId": "dc02f8a2-d490-4fc9-9675-8b888d8d93e6"
      },
      "execution_count": null,
      "outputs": [
        {
          "output_type": "stream",
          "name": "stdout",
          "text": [
            "\n",
            "Cluster 0\n",
            "without,two,started,feeling,every,better,shit,adderall,addiction,take,good,use,weeks,meth,getting,much,quit,since,taking,even,want,would,never,go,week,ago,one,first,really,going,using,year,still,life,back,know,got,mg,last,months,sober,today,feel,like,time,years,get,clean,day,days\n",
            "\n",
            "Cluster 1\n",
            "please,got,back,advice,also,trying,take,anything,thank,guys,feeling,never,still,always,way,stop,years,keep,something,even,addiction,make,self,work,someone,everyone,go,today,things,need,love,think,anyone,going,better,would,much,really,good,day,one,help,want,time,people,know,life,feel,get,like\n",
            "\n",
            "Cluster 2\n",
            "right,anything,everything,hard,someone,see,started,take,year,first,self,help,love,need,also,lot,every,got,person,still,could,always,something,friends,work,way,back,good,go,make,think,years,day,better,going,never,much,would,one,really,even,things,people,get,want,know,feel,time,life,like\n"
          ]
        }
      ]
    },
    {
      "cell_type": "code",
      "source": [
        "# map clusters to appropriate labels \n",
        "cluster_map = {0: \"Personal Addiction Struggle\", 1: \"Asking for Advice\", 2: \"Giving Advice\"}\n",
        "# apply mapping\n",
        "df['cluster'] = df['cluster'].map(cluster_map)"
      ],
      "metadata": {
        "id": "ZswZXA3l_aer"
      },
      "execution_count": null,
      "outputs": []
    },
    {
      "cell_type": "code",
      "source": [
        "# set image size\n",
        "plt.figure(figsize=(12, 7))\n",
        "# set a title\n",
        "plt.title(\"3-Cluster PCA Solution for Reddit Addiction Forums\", fontdict={\"fontsize\": 18})\n",
        "# set axes names\n",
        "plt.xlabel(\"X0\", fontdict={\"fontsize\": 16})\n",
        "plt.ylabel(\"X1\", fontdict={\"fontsize\": 16})\n",
        "# create scatter plot with seaborn, where hue is the class used to group the data\n",
        "sns.scatterplot(data=df, x='x0', y='x1', hue='cluster', palette=\"coolwarm\")\n",
        "plt.show()"
      ],
      "metadata": {
        "colab": {
          "base_uri": "https://localhost:8080/",
          "height": 467
        },
        "id": "X5L8mNOs_ahq",
        "outputId": "937596ed-563f-4764-91a4-d8cd2387c5ba"
      },
      "execution_count": null,
      "outputs": [
        {
          "output_type": "display_data",
          "data": {
            "text/plain": [
              "<Figure size 864x504 with 1 Axes>"
            ],
            "image/png": "[encoded data removed]"
          },
          "metadata": {
            "needs_background": "light"
          }
        }
      ]
    },
    {
      "cell_type": "code",
      "source": [
        "cluster_map = {0: \"Personal Addiction Struggle\", 1: \"Asking for Advice\", 2: \"Giving Advice\"}\n",
        "# apply mapping\n",
        "df['cluster'] = df['cluster'].map(cluster_map)"
      ],
      "metadata": {
        "id": "LlXZJARglUyH"
      },
      "execution_count": null,
      "outputs": []
    },
    {
      "cell_type": "code",
      "source": [
        "import numpy as np\n",
        "import pandas as pd\n",
        "import os\n",
        "from sklearn.feature_extraction.text import CountVectorizer\n",
        "from sklearn.model_selection import cross_val_score\n",
        "from sklearn.naive_bayes import MultinomialNB"
      ],
      "metadata": {
        "id": "c9O8nFf6eboU"
      },
      "execution_count": null,
      "outputs": []
    },
    {
      "cell_type": "code",
      "source": [
        "df = df[['body', 'cleaned', 'cluster']]"
      ],
      "metadata": {
        "id": "sY_5ClEUmS99"
      },
      "execution_count": null,
      "outputs": []
    },
    {
      "cell_type": "code",
      "source": [
        "df"
      ],
      "metadata": {
        "colab": {
          "base_uri": "https://localhost:8080/",
          "height": 502
        },
        "id": "B71bYRpcLpOl",
        "outputId": "9e789e00-5c44-4649-c6f9-71617d4026b8"
      },
      "execution_count": null,
      "outputs": [
        {
          "output_type": "execute_result",
          "data": {
            "text/plain": [
              "                                                   body  \\\n",
              "0     She’s Really Here\\n\\nMy 20 year old daughter i...   \n",
              "1     Not expecting people to care much, but I am pr...   \n",
              "2     I immediately started looking around for aceto...   \n",
              "3     This is my second son who passed away from an ...   \n",
              "4     Months ago I was stuck in the darkest place I ...   \n",
              "...                                                 ...   \n",
              "9060  I feel really weak, the food there sucks.. did...   \n",
              "9061  Hello Everyone,\\n\\n38/Single/White/West Coast/...   \n",
              "9062  Here's the most exciting thing that's happened...   \n",
              "9063  Today, Oct 7th I hit one year sober from opiat...   \n",
              "9064  I was on subutex 4mg for a week then ran out s...   \n",
              "\n",
              "                                                cleaned cluster  \n",
              "0     really year old daughter heroin addict chosen ...       1  \n",
              "1     expecting people care much proud least edit th...       1  \n",
              "2     immediately started looking around acetone cle...       0  \n",
              "3     second son passed away od youngest passed od s...       0  \n",
              "4     months ago stuck darkest place ever dope every...       0  \n",
              "...                                                 ...     ...  \n",
              "9060  feel really weak food sucks nt sleep much get ...       0  \n",
              "9061  hello everyone single white west coast male ma...       2  \n",
              "9062  exciting thing happened today normal poop help...       1  \n",
              "9063  today oct th hit one year sober opiates much s...       0  \n",
              "9064  subutex mg week ran switched mg suboxone feel ...       0  \n",
              "\n",
              "[9065 rows x 3 columns]"
            ],
            "text/html": [
              "\n",
              "  <div id=\"df-ad36982e-7da2-4184-a48c-52679c0fd88a\">\n",
              "    <div class=\"colab-df-container\">\n",
              "      <div>\n",
              "<style scoped>\n",
              "    .dataframe tbody tr th:only-of-type {\n",
              "        vertical-align: middle;\n",
              "    }\n",
              "\n",
              "    .dataframe tbody tr th {\n",
              "        vertical-align: top;\n",
              "    }\n",
              "\n",
              "    .dataframe thead th {\n",
              "        text-align: right;\n",
              "    }\n",
              "</style>\n",
              "<table border=\"1\" class=\"dataframe\">\n",
              "  <thead>\n",
              "    <tr style=\"text-align: right;\">\n",
              "      <th></th>\n",
              "      <th>body</th>\n",
              "      <th>cleaned</th>\n",
              "      <th>cluster</th>\n",
              "    </tr>\n",
              "  </thead>\n",
              "  <tbody>\n",
              "    <tr>\n",
              "      <th>0</th>\n",
              "      <td>She’s Really Here\\n\\nMy 20 year old daughter i...</td>\n",
              "      <td>really year old daughter heroin addict chosen ...</td>\n",
              "      <td>1</td>\n",
              "    </tr>\n",
              "    <tr>\n",
              "      <th>1</th>\n",
              "      <td>Not expecting people to care much, but I am pr...</td>\n",
              "      <td>expecting people care much proud least edit th...</td>\n",
              "      <td>1</td>\n",
              "    </tr>\n",
              "    <tr>\n",
              "      <th>2</th>\n",
              "      <td>I immediately started looking around for aceto...</td>\n",
              "      <td>immediately started looking around acetone cle...</td>\n",
              "      <td>0</td>\n",
              "    </tr>\n",
              "    <tr>\n",
              "      <th>3</th>\n",
              "      <td>This is my second son who passed away from an ...</td>\n",
              "      <td>second son passed away od youngest passed od s...</td>\n",
              "      <td>0</td>\n",
              "    </tr>\n",
              "    <tr>\n",
              "      <th>4</th>\n",
              "      <td>Months ago I was stuck in the darkest place I ...</td>\n",
              "      <td>months ago stuck darkest place ever dope every...</td>\n",
              "      <td>0</td>\n",
              "    </tr>\n",
              "    <tr>\n",
              "      <th>...</th>\n",
              "      <td>...</td>\n",
              "      <td>...</td>\n",
              "      <td>...</td>\n",
              "    </tr>\n",
              "    <tr>\n",
              "      <th>9060</th>\n",
              "      <td>I feel really weak, the food there sucks.. did...</td>\n",
              "      <td>feel really weak food sucks nt sleep much get ...</td>\n",
              "      <td>0</td>\n",
              "    </tr>\n",
              "    <tr>\n",
              "      <th>9061</th>\n",
              "      <td>Hello Everyone,\\n\\n38/Single/White/West Coast/...</td>\n",
              "      <td>hello everyone single white west coast male ma...</td>\n",
              "      <td>2</td>\n",
              "    </tr>\n",
              "    <tr>\n",
              "      <th>9062</th>\n",
              "      <td>Here's the most exciting thing that's happened...</td>\n",
              "      <td>exciting thing happened today normal poop help...</td>\n",
              "      <td>1</td>\n",
              "    </tr>\n",
              "    <tr>\n",
              "      <th>9063</th>\n",
              "      <td>Today, Oct 7th I hit one year sober from opiat...</td>\n",
              "      <td>today oct th hit one year sober opiates much s...</td>\n",
              "      <td>0</td>\n",
              "    </tr>\n",
              "    <tr>\n",
              "      <th>9064</th>\n",
              "      <td>I was on subutex 4mg for a week then ran out s...</td>\n",
              "      <td>subutex mg week ran switched mg suboxone feel ...</td>\n",
              "      <td>0</td>\n",
              "    </tr>\n",
              "  </tbody>\n",
              "</table>\n",
              "<p>9065 rows × 3 columns</p>\n",
              "</div>\n",
              "      <button class=\"colab-df-convert\" onclick=\"convertToInteractive('df-ad36982e-7da2-4184-a48c-52679c0fd88a')\"\n",
              "              title=\"Convert this dataframe to an interactive table.\"\n",
              "              style=\"display:none;\">\n",
              "        \n",
              "  <svg xmlns=\"http://www.w3.org/2000/svg\" height=\"24px\"viewBox=\"0 0 24 24\"\n",
              "       width=\"24px\">\n",
              "    <path d=\"M0 0h24v24H0V0z\" fill=\"none\"/>\n",
              "    <path d=\"M18.56 5.44l.94 2.06.94-2.06 2.06-.94-2.06-.94-.94-2.06-.94 2.06-2.06.94zm-11 1L8.5 8.5l.94-2.06 2.06-.94-2.06-.94L8.5 2.5l-.94 2.06-2.06.94zm10 10l.94 2.06.94-2.06 2.06-.94-2.06-.94-.94-2.06-.94 2.06-2.06.94z\"/><path d=\"M17.41 7.96l-1.37-1.37c-.4-.4-.92-.59-1.43-.59-.52 0-1.04.2-1.43.59L10.3 9.45l-7.72 7.72c-.78.78-.78 2.05 0 2.83L4 21.41c.39.39.9.59 1.41.59.51 0 1.02-.2 1.41-.59l7.78-7.78 2.81-2.81c.8-.78.8-2.07 0-2.86zM5.41 20L4 18.59l7.72-7.72 1.47 1.35L5.41 20z\"/>\n",
              "  </svg>\n",
              "      </button>\n",
              "      \n",
              "  <style>\n",
              "    .colab-df-container {\n",
              "      display:flex;\n",
              "      flex-wrap:wrap;\n",
              "      gap: 12px;\n",
              "    }\n",
              "\n",
              "    .colab-df-convert {\n",
              "      background-color: #E8F0FE;\n",
              "      border: none;\n",
              "      border-radius: 50%;\n",
              "      cursor: pointer;\n",
              "      display: none;\n",
              "      fill: #1967D2;\n",
              "      height: 32px;\n",
              "      padding: 0 0 0 0;\n",
              "      width: 32px;\n",
              "    }\n",
              "\n",
              "    .colab-df-convert:hover {\n",
              "      background-color: #E2EBFA;\n",
              "      box-shadow: 0px 1px 2px rgba(60, 64, 67, 0.3), 0px 1px 3px 1px rgba(60, 64, 67, 0.15);\n",
              "      fill: #174EA6;\n",
              "    }\n",
              "\n",
              "    [theme=dark] .colab-df-convert {\n",
              "      background-color: #3B4455;\n",
              "      fill: #D2E3FC;\n",
              "    }\n",
              "\n",
              "    [theme=dark] .colab-df-convert:hover {\n",
              "      background-color: #434B5C;\n",
              "      box-shadow: 0px 1px 3px 1px rgba(0, 0, 0, 0.15);\n",
              "      filter: drop-shadow(0px 1px 2px rgba(0, 0, 0, 0.3));\n",
              "      fill: #FFFFFF;\n",
              "    }\n",
              "  </style>\n",
              "\n",
              "      <script>\n",
              "        const buttonEl =\n",
              "          document.querySelector('#df-ad36982e-7da2-4184-a48c-52679c0fd88a button.colab-df-convert');\n",
              "        buttonEl.style.display =\n",
              "          google.colab.kernel.accessAllowed ? 'block' : 'none';\n",
              "\n",
              "        async function convertToInteractive(key) {\n",
              "          const element = document.querySelector('#df-ad36982e-7da2-4184-a48c-52679c0fd88a');\n",
              "          const dataTable =\n",
              "            await google.colab.kernel.invokeFunction('convertToInteractive',\n",
              "                                                     [key], {});\n",
              "          if (!dataTable) return;\n",
              "\n",
              "          const docLinkHtml = 'Like what you see? Visit the ' +\n",
              "            '<a target=\"_blank\" href=https://colab.research.google.com/notebooks/data_table.ipynb>data table notebook</a>'\n",
              "            + ' to learn more about interactive tables.';\n",
              "          element.innerHTML = '';\n",
              "          dataTable['output_type'] = 'display_data';\n",
              "          await google.colab.output.renderOutput(dataTable, element);\n",
              "          const docLink = document.createElement('div');\n",
              "          docLink.innerHTML = docLinkHtml;\n",
              "          element.appendChild(docLink);\n",
              "        }\n",
              "      </script>\n",
              "    </div>\n",
              "  </div>\n",
              "  "
            ]
          },
          "metadata": {},
          "execution_count": 145
        }
      ]
    },
    {
      "cell_type": "code",
      "source": [
        "df.cluster.value_counts()"
      ],
      "metadata": {
        "colab": {
          "base_uri": "https://localhost:8080/"
        },
        "id": "3PI3nyoyLpRt",
        "outputId": "65614eaa-deab-4f73-b883-9b347a13e2b1"
      },
      "execution_count": null,
      "outputs": [
        {
          "output_type": "execute_result",
          "data": {
            "text/plain": [
              "Asking for Advice              3885\n",
              "Giving Advice                  2661\n",
              "Personal Addiction Struggle    2519\n",
              "Name: cluster, dtype: int64"
            ]
          },
          "metadata": {},
          "execution_count": 52
        }
      ]
    },
    {
      "cell_type": "code",
      "source": [
        "countvec = CountVectorizer(ngram_range=(1,4), \n",
        "                           stop_words='english',  \n",
        "                           strip_accents='unicode', \n",
        "                           max_features=1000)"
      ],
      "metadata": {
        "id": "VRhoH0SHLpUp"
      },
      "execution_count": null,
      "outputs": []
    },
    {
      "cell_type": "code",
      "source": [
        "bow = countvec.fit_transform(df.cleaned)\n"
      ],
      "metadata": {
        "id": "gbcqUlfTLpXj"
      },
      "execution_count": null,
      "outputs": []
    },
    {
      "cell_type": "code",
      "source": [
        "mnb = MultinomialNB()\n",
        "cv_scores = cross_val_score(mnb,X=bow.toarray(), \n",
        "                            y=df.cluster.values, cv=20)"
      ],
      "metadata": {
        "id": "FsCzYg8TLpa5"
      },
      "execution_count": null,
      "outputs": []
    },
    {
      "cell_type": "code",
      "source": [
        "mean_cv = cv_scores.mean()\n"
      ],
      "metadata": {
        "id": "2G8pKtGgLpdo"
      },
      "execution_count": null,
      "outputs": []
    },
    {
      "cell_type": "code",
      "source": [
        "print('CV scores: {}'.format(cv_scores))\n",
        "print('Mean Cross validated accuracy: {}'.format(round(mean_cv, 2)))"
      ],
      "metadata": {
        "colab": {
          "base_uri": "https://localhost:8080/"
        },
        "id": "T_Pkw0wxLpgs",
        "outputId": "18cfccfb-1cc0-42c8-d354-b282eb94a0ea"
      },
      "execution_count": null,
      "outputs": [
        {
          "output_type": "stream",
          "name": "stdout",
          "text": [
            "CV scores: [0.63436123 0.67400881 0.68281938 0.66299559 0.73788546 0.65783664\n",
            " 0.70640177 0.70419426 0.70198675 0.66887417 0.74613687 0.75275938\n",
            " 0.77483444 0.76821192 0.73951435 0.64238411 0.59381898 0.5584989\n",
            " 0.55187638 0.61368653]\n",
            "Mean Cross validated accuracy: 0.68\n"
          ]
        }
      ]
    },
    {
      "cell_type": "code",
      "source": [],
      "metadata": {
        "id": "rOwr8RvBLpjY"
      },
      "execution_count": null,
      "outputs": []
    },
    {
      "cell_type": "code",
      "source": [
        "pca = PCA(n_components=200)\n",
        "X_train_reduced = pca.fit_transform(X_train.toarray())"
      ],
      "metadata": {
        "id": "wjDLEM0NNEI5"
      },
      "execution_count": null,
      "outputs": []
    },
    {
      "cell_type": "code",
      "source": [
        "X_test_reduced = pca.transform(X_test.toarray())\n"
      ],
      "metadata": {
        "id": "0-2_Ru9pPUaJ"
      },
      "execution_count": null,
      "outputs": []
    },
    {
      "cell_type": "code",
      "source": [
        "lr = LogisticRegression(penalty='l2')\n",
        "lr.fit(X_train_reduced, y_train)\n",
        "y_pred = lr.predict(X_test_reduced)\n",
        "score = accuracy_score(y_test, y_pred)\n",
        "print(\"Accuracy score: {}%\".format(round(score*100)))"
      ],
      "metadata": {
        "colab": {
          "base_uri": "https://localhost:8080/"
        },
        "id": "5mgfCKgCNELJ",
        "outputId": "e29eae19-311b-49e7-9205-6862f8162323"
      },
      "execution_count": null,
      "outputs": [
        {
          "output_type": "stream",
          "name": "stdout",
          "text": [
            "Accuracy score: 87%\n"
          ]
        }
      ]
    },
    {
      "cell_type": "code",
      "source": [
        "pip install vaderSentiment"
      ],
      "metadata": {
        "colab": {
          "base_uri": "https://localhost:8080/"
        },
        "id": "mucIc7keSOyc",
        "outputId": "e3cec6a8-e603-4b26-837e-ed86c0e17499"
      },
      "execution_count": null,
      "outputs": [
        {
          "output_type": "stream",
          "name": "stdout",
          "text": [
            "Looking in indexes: https://pypi.org/simple, https://us-python.pkg.dev/colab-wheels/public/simple/\n",
            "Collecting vaderSentiment\n",
            "  Downloading vaderSentiment-3.3.2-py2.py3-none-any.whl (125 kB)\n",
            "\u001b[K     |████████████████████████████████| 125 kB 9.2 MB/s \n",
            "\u001b[?25hRequirement already satisfied: requests in /usr/local/lib/python3.7/dist-packages (from vaderSentiment) (2.23.0)\n",
            "Requirement already satisfied: certifi>=2017.4.17 in /usr/local/lib/python3.7/dist-packages (from requests->vaderSentiment) (2022.6.15)\n",
            "Requirement already satisfied: urllib3!=1.25.0,!=1.25.1,<1.26,>=1.21.1 in /usr/local/lib/python3.7/dist-packages (from requests->vaderSentiment) (1.24.3)\n",
            "Requirement already satisfied: chardet<4,>=3.0.2 in /usr/local/lib/python3.7/dist-packages (from requests->vaderSentiment) (3.0.4)\n",
            "Requirement already satisfied: idna<3,>=2.5 in /usr/local/lib/python3.7/dist-packages (from requests->vaderSentiment) (2.10)\n",
            "Installing collected packages: vaderSentiment\n",
            "Successfully installed vaderSentiment-3.3.2\n"
          ]
        }
      ]
    },
    {
      "cell_type": "code",
      "source": [
        "import nltk\n",
        "import os\n",
        "import pandas as pd\n",
        "import numpy as np\n",
        "import vaderSentiment\n",
        "from vaderSentiment.vaderSentiment import SentimentIntensityAnalyzer\n"
      ],
      "metadata": {
        "id": "ooddPjaINEN1"
      },
      "execution_count": null,
      "outputs": []
    },
    {
      "cell_type": "code",
      "source": [
        "sid = SentimentIntensityAnalyzer()"
      ],
      "metadata": {
        "id": "HzKnG-iwSINd"
      },
      "execution_count": null,
      "outputs": []
    },
    {
      "cell_type": "code",
      "source": [
        "df"
      ],
      "metadata": {
        "colab": {
          "base_uri": "https://localhost:8080/",
          "height": 502
        },
        "id": "Q6T5dF2LSIQw",
        "outputId": "4ab577e4-b5a9-4288-f5ff-c83e7fbf984b"
      },
      "execution_count": null,
      "outputs": [
        {
          "output_type": "execute_result",
          "data": {
            "text/plain": [
              "                                                   body  \\\n",
              "0     She’s Really Here\\n\\nMy 20 year old daughter i...   \n",
              "1     Not expecting people to care much, but I am pr...   \n",
              "2     I immediately started looking around for aceto...   \n",
              "3     This is my second son who passed away from an ...   \n",
              "4     Months ago I was stuck in the darkest place I ...   \n",
              "...                                                 ...   \n",
              "9060  I feel really weak, the food there sucks.. did...   \n",
              "9061  Hello Everyone,\\n\\n38/Single/White/West Coast/...   \n",
              "9062  Here's the most exciting thing that's happened...   \n",
              "9063  Today, Oct 7th I hit one year sober from opiat...   \n",
              "9064  I was on subutex 4mg for a week then ran out s...   \n",
              "\n",
              "                                                cleaned cluster  \n",
              "0     really year old daughter heroin addict chosen ...       1  \n",
              "1     expecting people care much proud least edit th...       1  \n",
              "2     immediately started looking around acetone cle...       0  \n",
              "3     second son passed away od youngest passed od s...       0  \n",
              "4     months ago stuck darkest place ever dope every...       0  \n",
              "...                                                 ...     ...  \n",
              "9060  feel really weak food sucks nt sleep much get ...       0  \n",
              "9061  hello everyone single white west coast male ma...       2  \n",
              "9062  exciting thing happened today normal poop help...       1  \n",
              "9063  today oct th hit one year sober opiates much s...       0  \n",
              "9064  subutex mg week ran switched mg suboxone feel ...       0  \n",
              "\n",
              "[9065 rows x 3 columns]"
            ],
            "text/html": [
              "\n",
              "  <div id=\"df-1d80ca31-8eae-41f9-89dd-abd4034334d8\">\n",
              "    <div class=\"colab-df-container\">\n",
              "      <div>\n",
              "<style scoped>\n",
              "    .dataframe tbody tr th:only-of-type {\n",
              "        vertical-align: middle;\n",
              "    }\n",
              "\n",
              "    .dataframe tbody tr th {\n",
              "        vertical-align: top;\n",
              "    }\n",
              "\n",
              "    .dataframe thead th {\n",
              "        text-align: right;\n",
              "    }\n",
              "</style>\n",
              "<table border=\"1\" class=\"dataframe\">\n",
              "  <thead>\n",
              "    <tr style=\"text-align: right;\">\n",
              "      <th></th>\n",
              "      <th>body</th>\n",
              "      <th>cleaned</th>\n",
              "      <th>cluster</th>\n",
              "    </tr>\n",
              "  </thead>\n",
              "  <tbody>\n",
              "    <tr>\n",
              "      <th>0</th>\n",
              "      <td>She’s Really Here\\n\\nMy 20 year old daughter i...</td>\n",
              "      <td>really year old daughter heroin addict chosen ...</td>\n",
              "      <td>1</td>\n",
              "    </tr>\n",
              "    <tr>\n",
              "      <th>1</th>\n",
              "      <td>Not expecting people to care much, but I am pr...</td>\n",
              "      <td>expecting people care much proud least edit th...</td>\n",
              "      <td>1</td>\n",
              "    </tr>\n",
              "    <tr>\n",
              "      <th>2</th>\n",
              "      <td>I immediately started looking around for aceto...</td>\n",
              "      <td>immediately started looking around acetone cle...</td>\n",
              "      <td>0</td>\n",
              "    </tr>\n",
              "    <tr>\n",
              "      <th>3</th>\n",
              "      <td>This is my second son who passed away from an ...</td>\n",
              "      <td>second son passed away od youngest passed od s...</td>\n",
              "      <td>0</td>\n",
              "    </tr>\n",
              "    <tr>\n",
              "      <th>4</th>\n",
              "      <td>Months ago I was stuck in the darkest place I ...</td>\n",
              "      <td>months ago stuck darkest place ever dope every...</td>\n",
              "      <td>0</td>\n",
              "    </tr>\n",
              "    <tr>\n",
              "      <th>...</th>\n",
              "      <td>...</td>\n",
              "      <td>...</td>\n",
              "      <td>...</td>\n",
              "    </tr>\n",
              "    <tr>\n",
              "      <th>9060</th>\n",
              "      <td>I feel really weak, the food there sucks.. did...</td>\n",
              "      <td>feel really weak food sucks nt sleep much get ...</td>\n",
              "      <td>0</td>\n",
              "    </tr>\n",
              "    <tr>\n",
              "      <th>9061</th>\n",
              "      <td>Hello Everyone,\\n\\n38/Single/White/West Coast/...</td>\n",
              "      <td>hello everyone single white west coast male ma...</td>\n",
              "      <td>2</td>\n",
              "    </tr>\n",
              "    <tr>\n",
              "      <th>9062</th>\n",
              "      <td>Here's the most exciting thing that's happened...</td>\n",
              "      <td>exciting thing happened today normal poop help...</td>\n",
              "      <td>1</td>\n",
              "    </tr>\n",
              "    <tr>\n",
              "      <th>9063</th>\n",
              "      <td>Today, Oct 7th I hit one year sober from opiat...</td>\n",
              "      <td>today oct th hit one year sober opiates much s...</td>\n",
              "      <td>0</td>\n",
              "    </tr>\n",
              "    <tr>\n",
              "      <th>9064</th>\n",
              "      <td>I was on subutex 4mg for a week then ran out s...</td>\n",
              "      <td>subutex mg week ran switched mg suboxone feel ...</td>\n",
              "      <td>0</td>\n",
              "    </tr>\n",
              "  </tbody>\n",
              "</table>\n",
              "<p>9065 rows × 3 columns</p>\n",
              "</div>\n",
              "      <button class=\"colab-df-convert\" onclick=\"convertToInteractive('df-1d80ca31-8eae-41f9-89dd-abd4034334d8')\"\n",
              "              title=\"Convert this dataframe to an interactive table.\"\n",
              "              style=\"display:none;\">\n",
              "        \n",
              "  <svg xmlns=\"http://www.w3.org/2000/svg\" height=\"24px\"viewBox=\"0 0 24 24\"\n",
              "       width=\"24px\">\n",
              "    <path d=\"M0 0h24v24H0V0z\" fill=\"none\"/>\n",
              "    <path d=\"M18.56 5.44l.94 2.06.94-2.06 2.06-.94-2.06-.94-.94-2.06-.94 2.06-2.06.94zm-11 1L8.5 8.5l.94-2.06 2.06-.94-2.06-.94L8.5 2.5l-.94 2.06-2.06.94zm10 10l.94 2.06.94-2.06 2.06-.94-2.06-.94-.94-2.06-.94 2.06-2.06.94z\"/><path d=\"M17.41 7.96l-1.37-1.37c-.4-.4-.92-.59-1.43-.59-.52 0-1.04.2-1.43.59L10.3 9.45l-7.72 7.72c-.78.78-.78 2.05 0 2.83L4 21.41c.39.39.9.59 1.41.59.51 0 1.02-.2 1.41-.59l7.78-7.78 2.81-2.81c.8-.78.8-2.07 0-2.86zM5.41 20L4 18.59l7.72-7.72 1.47 1.35L5.41 20z\"/>\n",
              "  </svg>\n",
              "      </button>\n",
              "      \n",
              "  <style>\n",
              "    .colab-df-container {\n",
              "      display:flex;\n",
              "      flex-wrap:wrap;\n",
              "      gap: 12px;\n",
              "    }\n",
              "\n",
              "    .colab-df-convert {\n",
              "      background-color: #E8F0FE;\n",
              "      border: none;\n",
              "      border-radius: 50%;\n",
              "      cursor: pointer;\n",
              "      display: none;\n",
              "      fill: #1967D2;\n",
              "      height: 32px;\n",
              "      padding: 0 0 0 0;\n",
              "      width: 32px;\n",
              "    }\n",
              "\n",
              "    .colab-df-convert:hover {\n",
              "      background-color: #E2EBFA;\n",
              "      box-shadow: 0px 1px 2px rgba(60, 64, 67, 0.3), 0px 1px 3px 1px rgba(60, 64, 67, 0.15);\n",
              "      fill: #174EA6;\n",
              "    }\n",
              "\n",
              "    [theme=dark] .colab-df-convert {\n",
              "      background-color: #3B4455;\n",
              "      fill: #D2E3FC;\n",
              "    }\n",
              "\n",
              "    [theme=dark] .colab-df-convert:hover {\n",
              "      background-color: #434B5C;\n",
              "      box-shadow: 0px 1px 3px 1px rgba(0, 0, 0, 0.15);\n",
              "      filter: drop-shadow(0px 1px 2px rgba(0, 0, 0, 0.3));\n",
              "      fill: #FFFFFF;\n",
              "    }\n",
              "  </style>\n",
              "\n",
              "      <script>\n",
              "        const buttonEl =\n",
              "          document.querySelector('#df-1d80ca31-8eae-41f9-89dd-abd4034334d8 button.colab-df-convert');\n",
              "        buttonEl.style.display =\n",
              "          google.colab.kernel.accessAllowed ? 'block' : 'none';\n",
              "\n",
              "        async function convertToInteractive(key) {\n",
              "          const element = document.querySelector('#df-1d80ca31-8eae-41f9-89dd-abd4034334d8');\n",
              "          const dataTable =\n",
              "            await google.colab.kernel.invokeFunction('convertToInteractive',\n",
              "                                                     [key], {});\n",
              "          if (!dataTable) return;\n",
              "\n",
              "          const docLinkHtml = 'Like what you see? Visit the ' +\n",
              "            '<a target=\"_blank\" href=https://colab.research.google.com/notebooks/data_table.ipynb>data table notebook</a>'\n",
              "            + ' to learn more about interactive tables.';\n",
              "          element.innerHTML = '';\n",
              "          dataTable['output_type'] = 'display_data';\n",
              "          await google.colab.output.renderOutput(dataTable, element);\n",
              "          const docLink = document.createElement('div');\n",
              "          docLink.innerHTML = docLinkHtml;\n",
              "          element.appendChild(docLink);\n",
              "        }\n",
              "      </script>\n",
              "    </div>\n",
              "  </div>\n",
              "  "
            ]
          },
          "metadata": {},
          "execution_count": 168
        }
      ]
    },
    {
      "cell_type": "code",
      "source": [
        "sid.polarity_scores(df.iloc[23]['body'])"
      ],
      "metadata": {
        "colab": {
          "base_uri": "https://localhost:8080/"
        },
        "id": "31Ji5h42SITf",
        "outputId": "52400ee8-12de-40ac-c16b-cbccac738b6a"
      },
      "execution_count": null,
      "outputs": [
        {
          "output_type": "execute_result",
          "data": {
            "text/plain": [
              "{'neg': 0.119, 'neu': 0.734, 'pos': 0.147, 'compound': 0.4482}"
            ]
          },
          "metadata": {},
          "execution_count": 169
        }
      ]
    },
    {
      "cell_type": "code",
      "source": [
        "df['scores'] = df['body'].apply(lambda review:sid.polarity_scores(review))"
      ],
      "metadata": {
        "colab": {
          "base_uri": "https://localhost:8080/"
        },
        "id": "erbbx4oNSIWf",
        "outputId": "5fb5a441-5142-4bc3-9858-2334c290909f"
      },
      "execution_count": null,
      "outputs": [
        {
          "output_type": "stream",
          "name": "stderr",
          "text": [
            "/usr/local/lib/python3.7/dist-packages/ipykernel_launcher.py:1: SettingWithCopyWarning: \n",
            "A value is trying to be set on a copy of a slice from a DataFrame.\n",
            "Try using .loc[row_indexer,col_indexer] = value instead\n",
            "\n",
            "See the caveats in the documentation: https://pandas.pydata.org/pandas-docs/stable/user_guide/indexing.html#returning-a-view-versus-a-copy\n",
            "  \"\"\"Entry point for launching an IPython kernel.\n"
          ]
        }
      ]
    },
    {
      "cell_type": "code",
      "source": [
        "df['compound'] = df['scores'].apply(lambda d:d['compound'])"
      ],
      "metadata": {
        "colab": {
          "base_uri": "https://localhost:8080/"
        },
        "id": "MtOc7ve_SbyQ",
        "outputId": "1fddd91f-87dc-4e69-8d3c-2b4347f2cd60"
      },
      "execution_count": null,
      "outputs": [
        {
          "output_type": "stream",
          "name": "stderr",
          "text": [
            "/usr/local/lib/python3.7/dist-packages/ipykernel_launcher.py:1: SettingWithCopyWarning: \n",
            "A value is trying to be set on a copy of a slice from a DataFrame.\n",
            "Try using .loc[row_indexer,col_indexer] = value instead\n",
            "\n",
            "See the caveats in the documentation: https://pandas.pydata.org/pandas-docs/stable/user_guide/indexing.html#returning-a-view-versus-a-copy\n",
            "  \"\"\"Entry point for launching an IPython kernel.\n"
          ]
        }
      ]
    },
    {
      "cell_type": "code",
      "source": [
        "df"
      ],
      "metadata": {
        "colab": {
          "base_uri": "https://localhost:8080/",
          "height": 815
        },
        "id": "I_6jCXGMTMt4",
        "outputId": "e1334066-8fad-40b7-d822-c899cdbc47b9"
      },
      "execution_count": null,
      "outputs": [
        {
          "output_type": "execute_result",
          "data": {
            "text/plain": [
              "                                                   body  \\\n",
              "0     She’s Really Here\\n\\nMy 20 year old daughter i...   \n",
              "1     Not expecting people to care much, but I am pr...   \n",
              "2     I immediately started looking around for aceto...   \n",
              "3     This is my second son who passed away from an ...   \n",
              "4     Months ago I was stuck in the darkest place I ...   \n",
              "...                                                 ...   \n",
              "9060  I feel really weak, the food there sucks.. did...   \n",
              "9061  Hello Everyone,\\n\\n38/Single/White/West Coast/...   \n",
              "9062  Here's the most exciting thing that's happened...   \n",
              "9063  Today, Oct 7th I hit one year sober from opiat...   \n",
              "9064  I was on subutex 4mg for a week then ran out s...   \n",
              "\n",
              "                                                cleaned cluster  \\\n",
              "0     really year old daughter heroin addict chosen ...       1   \n",
              "1     expecting people care much proud least edit th...       1   \n",
              "2     immediately started looking around acetone cle...       0   \n",
              "3     second son passed away od youngest passed od s...       0   \n",
              "4     months ago stuck darkest place ever dope every...       0   \n",
              "...                                                 ...     ...   \n",
              "9060  feel really weak food sucks nt sleep much get ...       0   \n",
              "9061  hello everyone single white west coast male ma...       2   \n",
              "9062  exciting thing happened today normal poop help...       1   \n",
              "9063  today oct th hit one year sober opiates much s...       0   \n",
              "9064  subutex mg week ran switched mg suboxone feel ...       0   \n",
              "\n",
              "                                                 scores  compound  \n",
              "0     {'neg': 0.115, 'neu': 0.745, 'pos': 0.14, 'com...    0.8055  \n",
              "1     {'neg': 0.0, 'neu': 0.597, 'pos': 0.403, 'comp...    0.9758  \n",
              "2     {'neg': 0.034, 'neu': 0.842, 'pos': 0.123, 'co...    0.8629  \n",
              "3     {'neg': 0.099, 'neu': 0.811, 'pos': 0.09, 'com...   -0.3506  \n",
              "4     {'neg': 0.173, 'neu': 0.717, 'pos': 0.109, 'co...   -0.8581  \n",
              "...                                                 ...       ...  \n",
              "9060  {'neg': 0.18, 'neu': 0.78, 'pos': 0.04, 'compo...   -0.8427  \n",
              "9061  {'neg': 0.139, 'neu': 0.742, 'pos': 0.118, 'co...   -0.9975  \n",
              "9062  {'neg': 0.015, 'neu': 0.69, 'pos': 0.295, 'com...    0.9864  \n",
              "9063  {'neg': 0.054, 'neu': 0.767, 'pos': 0.178, 'co...    0.7575  \n",
              "9064  {'neg': 0.093, 'neu': 0.829, 'pos': 0.078, 'co...   -0.2951  \n",
              "\n",
              "[9065 rows x 5 columns]"
            ],
            "text/html": [
              "\n",
              "  <div id=\"df-8d0c55f5-0f6a-4ff0-8e6c-8ce32cd99508\">\n",
              "    <div class=\"colab-df-container\">\n",
              "      <div>\n",
              "<style scoped>\n",
              "    .dataframe tbody tr th:only-of-type {\n",
              "        vertical-align: middle;\n",
              "    }\n",
              "\n",
              "    .dataframe tbody tr th {\n",
              "        vertical-align: top;\n",
              "    }\n",
              "\n",
              "    .dataframe thead th {\n",
              "        text-align: right;\n",
              "    }\n",
              "</style>\n",
              "<table border=\"1\" class=\"dataframe\">\n",
              "  <thead>\n",
              "    <tr style=\"text-align: right;\">\n",
              "      <th></th>\n",
              "      <th>body</th>\n",
              "      <th>cleaned</th>\n",
              "      <th>cluster</th>\n",
              "      <th>scores</th>\n",
              "      <th>compound</th>\n",
              "    </tr>\n",
              "  </thead>\n",
              "  <tbody>\n",
              "    <tr>\n",
              "      <th>0</th>\n",
              "      <td>She’s Really Here\\n\\nMy 20 year old daughter i...</td>\n",
              "      <td>really year old daughter heroin addict chosen ...</td>\n",
              "      <td>1</td>\n",
              "      <td>{'neg': 0.115, 'neu': 0.745, 'pos': 0.14, 'com...</td>\n",
              "      <td>0.8055</td>\n",
              "    </tr>\n",
              "    <tr>\n",
              "      <th>1</th>\n",
              "      <td>Not expecting people to care much, but I am pr...</td>\n",
              "      <td>expecting people care much proud least edit th...</td>\n",
              "      <td>1</td>\n",
              "      <td>{'neg': 0.0, 'neu': 0.597, 'pos': 0.403, 'comp...</td>\n",
              "      <td>0.9758</td>\n",
              "    </tr>\n",
              "    <tr>\n",
              "      <th>2</th>\n",
              "      <td>I immediately started looking around for aceto...</td>\n",
              "      <td>immediately started looking around acetone cle...</td>\n",
              "      <td>0</td>\n",
              "      <td>{'neg': 0.034, 'neu': 0.842, 'pos': 0.123, 'co...</td>\n",
              "      <td>0.8629</td>\n",
              "    </tr>\n",
              "    <tr>\n",
              "      <th>3</th>\n",
              "      <td>This is my second son who passed away from an ...</td>\n",
              "      <td>second son passed away od youngest passed od s...</td>\n",
              "      <td>0</td>\n",
              "      <td>{'neg': 0.099, 'neu': 0.811, 'pos': 0.09, 'com...</td>\n",
              "      <td>-0.3506</td>\n",
              "    </tr>\n",
              "    <tr>\n",
              "      <th>4</th>\n",
              "      <td>Months ago I was stuck in the darkest place I ...</td>\n",
              "      <td>months ago stuck darkest place ever dope every...</td>\n",
              "      <td>0</td>\n",
              "      <td>{'neg': 0.173, 'neu': 0.717, 'pos': 0.109, 'co...</td>\n",
              "      <td>-0.8581</td>\n",
              "    </tr>\n",
              "    <tr>\n",
              "      <th>...</th>\n",
              "      <td>...</td>\n",
              "      <td>...</td>\n",
              "      <td>...</td>\n",
              "      <td>...</td>\n",
              "      <td>...</td>\n",
              "    </tr>\n",
              "    <tr>\n",
              "      <th>9060</th>\n",
              "      <td>I feel really weak, the food there sucks.. did...</td>\n",
              "      <td>feel really weak food sucks nt sleep much get ...</td>\n",
              "      <td>0</td>\n",
              "      <td>{'neg': 0.18, 'neu': 0.78, 'pos': 0.04, 'compo...</td>\n",
              "      <td>-0.8427</td>\n",
              "    </tr>\n",
              "    <tr>\n",
              "      <th>9061</th>\n",
              "      <td>Hello Everyone,\\n\\n38/Single/White/West Coast/...</td>\n",
              "      <td>hello everyone single white west coast male ma...</td>\n",
              "      <td>2</td>\n",
              "      <td>{'neg': 0.139, 'neu': 0.742, 'pos': 0.118, 'co...</td>\n",
              "      <td>-0.9975</td>\n",
              "    </tr>\n",
              "    <tr>\n",
              "      <th>9062</th>\n",
              "      <td>Here's the most exciting thing that's happened...</td>\n",
              "      <td>exciting thing happened today normal poop help...</td>\n",
              "      <td>1</td>\n",
              "      <td>{'neg': 0.015, 'neu': 0.69, 'pos': 0.295, 'com...</td>\n",
              "      <td>0.9864</td>\n",
              "    </tr>\n",
              "    <tr>\n",
              "      <th>9063</th>\n",
              "      <td>Today, Oct 7th I hit one year sober from opiat...</td>\n",
              "      <td>today oct th hit one year sober opiates much s...</td>\n",
              "      <td>0</td>\n",
              "      <td>{'neg': 0.054, 'neu': 0.767, 'pos': 0.178, 'co...</td>\n",
              "      <td>0.7575</td>\n",
              "    </tr>\n",
              "    <tr>\n",
              "      <th>9064</th>\n",
              "      <td>I was on subutex 4mg for a week then ran out s...</td>\n",
              "      <td>subutex mg week ran switched mg suboxone feel ...</td>\n",
              "      <td>0</td>\n",
              "      <td>{'neg': 0.093, 'neu': 0.829, 'pos': 0.078, 'co...</td>\n",
              "      <td>-0.2951</td>\n",
              "    </tr>\n",
              "  </tbody>\n",
              "</table>\n",
              "<p>9065 rows × 5 columns</p>\n",
              "</div>\n",
              "      <button class=\"colab-df-convert\" onclick=\"convertToInteractive('df-8d0c55f5-0f6a-4ff0-8e6c-8ce32cd99508')\"\n",
              "              title=\"Convert this dataframe to an interactive table.\"\n",
              "              style=\"display:none;\">\n",
              "        \n",
              "  <svg xmlns=\"http://www.w3.org/2000/svg\" height=\"24px\"viewBox=\"0 0 24 24\"\n",
              "       width=\"24px\">\n",
              "    <path d=\"M0 0h24v24H0V0z\" fill=\"none\"/>\n",
              "    <path d=\"M18.56 5.44l.94 2.06.94-2.06 2.06-.94-2.06-.94-.94-2.06-.94 2.06-2.06.94zm-11 1L8.5 8.5l.94-2.06 2.06-.94-2.06-.94L8.5 2.5l-.94 2.06-2.06.94zm10 10l.94 2.06.94-2.06 2.06-.94-2.06-.94-.94-2.06-.94 2.06-2.06.94z\"/><path d=\"M17.41 7.96l-1.37-1.37c-.4-.4-.92-.59-1.43-.59-.52 0-1.04.2-1.43.59L10.3 9.45l-7.72 7.72c-.78.78-.78 2.05 0 2.83L4 21.41c.39.39.9.59 1.41.59.51 0 1.02-.2 1.41-.59l7.78-7.78 2.81-2.81c.8-.78.8-2.07 0-2.86zM5.41 20L4 18.59l7.72-7.72 1.47 1.35L5.41 20z\"/>\n",
              "  </svg>\n",
              "      </button>\n",
              "      \n",
              "  <style>\n",
              "    .colab-df-container {\n",
              "      display:flex;\n",
              "      flex-wrap:wrap;\n",
              "      gap: 12px;\n",
              "    }\n",
              "\n",
              "    .colab-df-convert {\n",
              "      background-color: #E8F0FE;\n",
              "      border: none;\n",
              "      border-radius: 50%;\n",
              "      cursor: pointer;\n",
              "      display: none;\n",
              "      fill: #1967D2;\n",
              "      height: 32px;\n",
              "      padding: 0 0 0 0;\n",
              "      width: 32px;\n",
              "    }\n",
              "\n",
              "    .colab-df-convert:hover {\n",
              "      background-color: #E2EBFA;\n",
              "      box-shadow: 0px 1px 2px rgba(60, 64, 67, 0.3), 0px 1px 3px 1px rgba(60, 64, 67, 0.15);\n",
              "      fill: #174EA6;\n",
              "    }\n",
              "\n",
              "    [theme=dark] .colab-df-convert {\n",
              "      background-color: #3B4455;\n",
              "      fill: #D2E3FC;\n",
              "    }\n",
              "\n",
              "    [theme=dark] .colab-df-convert:hover {\n",
              "      background-color: #434B5C;\n",
              "      box-shadow: 0px 1px 3px 1px rgba(0, 0, 0, 0.15);\n",
              "      filter: drop-shadow(0px 1px 2px rgba(0, 0, 0, 0.3));\n",
              "      fill: #FFFFFF;\n",
              "    }\n",
              "  </style>\n",
              "\n",
              "      <script>\n",
              "        const buttonEl =\n",
              "          document.querySelector('#df-8d0c55f5-0f6a-4ff0-8e6c-8ce32cd99508 button.colab-df-convert');\n",
              "        buttonEl.style.display =\n",
              "          google.colab.kernel.accessAllowed ? 'block' : 'none';\n",
              "\n",
              "        async function convertToInteractive(key) {\n",
              "          const element = document.querySelector('#df-8d0c55f5-0f6a-4ff0-8e6c-8ce32cd99508');\n",
              "          const dataTable =\n",
              "            await google.colab.kernel.invokeFunction('convertToInteractive',\n",
              "                                                     [key], {});\n",
              "          if (!dataTable) return;\n",
              "\n",
              "          const docLinkHtml = 'Like what you see? Visit the ' +\n",
              "            '<a target=\"_blank\" href=https://colab.research.google.com/notebooks/data_table.ipynb>data table notebook</a>'\n",
              "            + ' to learn more about interactive tables.';\n",
              "          element.innerHTML = '';\n",
              "          dataTable['output_type'] = 'display_data';\n",
              "          await google.colab.output.renderOutput(dataTable, element);\n",
              "          const docLink = document.createElement('div');\n",
              "          docLink.innerHTML = docLinkHtml;\n",
              "          element.appendChild(docLink);\n",
              "        }\n",
              "      </script>\n",
              "    </div>\n",
              "  </div>\n",
              "  "
            ]
          },
          "metadata": {},
          "execution_count": 172
        }
      ]
    },
    {
      "cell_type": "code",
      "source": [],
      "metadata": {
        "id": "e-StvrHhTMxW"
      },
      "execution_count": null,
      "outputs": []
    },
    {
      "cell_type": "code",
      "source": [
        "from google.colab import drive\n",
        "drive.mount('/content/drive')"
      ],
      "metadata": {
        "id": "gtwuZmZZfUMi"
      },
      "execution_count": null,
      "outputs": []
    },
    {
      "cell_type": "code",
      "source": [],
      "metadata": {
        "id": "vb7caxC6eb0T"
      },
      "execution_count": null,
      "outputs": []
    },
    {
      "cell_type": "code",
      "source": [
        "from google.colab import drive\n",
        "drive.mount('/content/drive')"
      ],
      "metadata": {
        "colab": {
          "base_uri": "https://localhost:8080/"
        },
        "id": "6y9oo-iAjeqb",
        "outputId": "49c131da-c3c6-493d-db42-a9da22fc765b"
      },
      "execution_count": null,
      "outputs": [
        {
          "output_type": "stream",
          "name": "stdout",
          "text": [
            "Mounted at /content/drive\n"
          ]
        }
      ]
    },
    {
      "cell_type": "code",
      "source": [
        "df.to_csv(\"addiction_reddit_rnr_analyzed.csv\")"
      ],
      "metadata": {
        "id": "Mfa5ywGXeb3j"
      },
      "execution_count": null,
      "outputs": []
    }
  ]
}